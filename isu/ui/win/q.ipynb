{
 "cells": [
  {
   "cell_type": "code",
   "execution_count": null,
   "metadata": {},
   "outputs": [
    {
     "ename": "",
     "evalue": "",
     "output_type": "error",
     "traceback": [
      "\u001b[1;31mRunning cells with 'Python 3.10.0 ('isu')' requires ipykernel package.\n",
      "Run the following command to install 'ipykernel' into the Python environment. \n",
      "Command: 'conda install -n isu ipykernel --update-deps --force-reinstall'"
     ]
    }
   ],
   "source": [
    "from PySide6.QtWidgets import QApplication\n",
    "from PySide6.QtQuick import QQuickView\n",
    "from PySide6.QtCore import QUrl\n",
    "\n",
    "app = QApplication()\n",
    "view = QQuickView()\n",
    "url = QUrl('w.qml')\n",
    "view.setSource(url)\n",
    "view.show()\n",
    "app.exec()"
   ]
  },
  {
   "cell_type": "code",
   "execution_count": null,
   "metadata": {},
   "outputs": [],
   "source": []
  }
 ],
 "metadata": {
  "interpreter": {
   "hash": "36720b8880180fc8020a20a412c4a44a950b4222dc828d4bd239f38dd6a7336e"
  },
  "kernelspec": {
   "display_name": "Python 3.10.2 ('isu-PE22TjVL-py3.10')",
   "language": "python",
   "name": "python3"
  },
  "language_info": {
   "name": "python",
   "version": "3.10.0"
  },
  "orig_nbformat": 4
 },
 "nbformat": 4,
 "nbformat_minor": 2
}
