{
 "cells": [
  {
   "cell_type": "code",
   "execution_count": 2,
   "metadata": {},
   "outputs": [],
   "source": [
    "from PySide6.QtWidgets import *\n",
    "from PySide6.QtQuick import QQuickView\n",
    "from PySide6.QtCore import *\n",
    "from PySide6.QtUiTools impo54rt *\n",
    "from PySide6.QtGui  import *\n",
    "\n",
    "match QApplication.instance():\n",
    "    case None: a = QApplication()\n",
    "    case app: a = app\n",
    "\n",
    "# view = QQuickView()\n",
    "# view.setSource(url)\n",
    "# view.show()\n",
    "mw = QUiLoader(None).load(\"w.ui\", None)\n",
    "mw.show()\n",
    "\n",
    "a.exec()"
   ]
  },
  {
   "cell_type": "code",
   "execution_count": null,
   "metadata": {},
   "outputs": [],
   "source": []
  }
 ],
 "metadata": {
  "interpreter": {
   "hash": "36720b8880180fc8020a20a412c4a44a950b4222dc828d4bd239f38dd6a7336e"
  },
  "kernelspec": {
   "display_name": "Python 3.10.2 ('isu-PE22TjVL-py3.10')",
   "language": "python",
   "name": "python3"
  },
  "language_info": {
   "codemirror_mode": {
    "name": "ipython",
    "version": 3
   },
   "file_extension": ".py",
   "mimetype": "text/x-python",
   "name": "python",
   "nbconvert_exporter": "python",
   "pygments_lexer": "ipython3",
   "version": "3.10.0"
  },
  "orig_nbformat": 4
 },
 "nbformat": 4,
 "nbformat_minor": 2
}
