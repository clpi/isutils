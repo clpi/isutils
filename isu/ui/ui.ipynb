{
 "cells": [
  {
   "cell_type": "code",
   "execution_count": 1,
   "metadata": {},
   "outputs": [],
   "source": [
    "from PySide6.QtCore import *\n",
    "from PySide6.QtUiTools import QUiLoader\n",
    "from typing import List, Type\n",
    "from PySide6.QtStateMachine import *\n",
    "from PySide6.QtWidgets import *\n",
    "from tkinter import Tk, ttk\n",
    "import cv2, ffmpeg, sys, os, numpy as np\n",
    "from PIL import Image, ImageQt, ImageSequence\n",
    "import ffmpeg\n",
    "import os, sys\n",
    "from pathlib import Path\n",
    "from typing import Any, List, Dict"
   ]
  },
  {
   "cell_type": "code",
   "execution_count": 2,
   "metadata": {},
   "outputs": [],
   "source": []
  },
  {
   "cell_type": "code",
   "execution_count": 3,
   "metadata": {},
   "outputs": [],
   "source": [
    "        \n",
    "\n",
    "\n",
    "\n",
    "        # self.demoPageLayout: QHBoxLayout = self.findChild(QHBoxLayout, \"demoPageLayout\")\n",
    "        # self.demoPageLayout.addChildWidget(DataView(self))\n",
    "        # self.demoPageLayout.addChildWidget(OpTabs(self))\n",
    "        # self.dframe = QFrame()\n",
    "        # self.dflayout = QVBoxLayout(self.dframe)\n",
    "        # # self.dlayout.addL)\n",
    "        # self.dframe.setLayout(self.dflayout)\n",
    "        # self.dflayout.addChildWidget(LoadedView(self)) # type: ignore\n",
    "        # self.dflayout.addChildWidget(StepsView(self)) # type: ignore"
   ]
  },
  {
   "cell_type": "code",
   "execution_count": 4,
   "metadata": {},
   "outputs": [],
   "source": [
    "class DemoView(QWidget):\n",
    "    def __init__(self, parent: Any):\n",
    "        QWidget.__init__(self)\n",
    "        UiLoad().loadUi(uifile=\"./views/demo.ui\", baseinstance=self)\n",
    "\n",
    "class ViewTabs(QWidget):\n",
    "    def __init__(self, parent: Any):\n",
    "        QWidget.__init__(self)\n",
    "        UiLoad().loadUi(uifile=\"./views/views.ui\", baseinstance=self)\n",
    "\n",
    "class PreviewTab(QWidget):\n",
    "    def __init__(self, parent: Any):\n",
    "        QWidget.__init__(self)\n",
    "        UiLoad().loadUi(uifile=\"./views/preview.ui\", baseinstance=self)\n",
    "\n",
    "class StepsView(QWidget):\n",
    "    def __init__(self, parent: Any):\n",
    "        QWidget.__init__(self)\n",
    "        UiLoad().loadUi(uifile=\"./data/steps.ui\", baseinstance=self)\n",
    "\n",
    "class LoadedView(QWidget):\n",
    "    def __init__(self, parent: Any):\n",
    "        QWidget.__init__(self)\n",
    "        UiLoad().loadUi(uifile=\"./data/loaded.ui\", baseinstance=self)\n",
    "\n",
    "class DataView(QWidget):\n",
    "    def __init__(self, parent: Any):\n",
    "        QWidget.__init__(self)\n",
    "        UiLoad().loadUi(uifile=\"./data/data.ui\", baseinstance=self)\n",
    "        self.stepsLayout.addWidget(LoadedView(self))\n",
    "        self.stepsLayout.addWidget(StepsView(self))"
   ]
  },
  {
   "cell_type": "code",
   "execution_count": 2,
   "metadata": {},
   "outputs": [],
   "source": [
    "from PySide6.QtCore import *\n",
    "from PySide6.QtUiTools import QUiLoader\n",
    "from typing import List, Type\n",
    "from PySide6.QtStateMachine import *\n",
    "from PySide6.QtWidgets import *\n",
    "from tkinter import Tk, ttk\n",
    "import cv2, ffmpeg, sys, os, numpy as np\n",
    "from PIL import Image, ImageQt, ImageSequence\n",
    "import ffmpeg\n",
    "import os, sys\n",
    "from pathlib import Path\n",
    "from typing import Any, List, Dict\n",
    "\n",
    "class UiLoad(QUiLoader):\n",
    "    def loadUi(self, uifile: str, baseinstance=None, parent=None) -> QWidget:\n",
    "        self._baseinstance = baseinstance\n",
    "        widget = self.load(uifile, parentWidget=parent)\n",
    "        QMetaObject.connectSlotsByName(widget)\n",
    "        return widget\n",
    "\n",
    "    def createWidget(self, classname: str, parent=None, name=''):\n",
    "        if parent is None and self._baseinstance is not None:\n",
    "            widget = self._baseinstance\n",
    "        else:\n",
    "            widget = super(UiLoad, self).createWidget(classname, parent, name)\n",
    "            if self._baseinstance is not None:\n",
    "                setattr(self._baseinstance, name, widget)\n",
    "        return widget\n",
    "class Window(QWidget):\n",
    "    def __init__(self, parent: Any, ui: str | None = \"./win.ui\"):\n",
    "        QWidget.__init__(self)\n",
    "        UiLoad().loadUi(uifile=ui,baseinstance=self)\n",
    "\n",
    "class Win(QMainWindow):\n",
    "    def __init__(self, parent: Any, uifile = \"w.ui\"):\n",
    "        QMainWindow.__init__(self)\n",
    "        UiLoad().loadUi(uifile=uifile, baseinstance=self)\n",
    "class App:\n",
    "    def __init__(self):\n",
    "        self = self.inst()\n",
    "\n",
    "    def run(self, w: QWidget | QMainWindow):\n",
    "        w.show()\n",
    "        sys.exit(self.app.exec())\n",
    "\n",
    "    def inst(self):\n",
    "        match QApplication.instance():\n",
    "            case None: self.app = QApplication(sys.argv)\n",
    "            case app: self.app = app\n",
    "        return self.app\n",
    "\n"
   ]
  },
  {
   "cell_type": "code",
   "execution_count": null,
   "metadata": {},
   "outputs": [],
   "source": []
  },
  {
   "cell_type": "code",
   "execution_count": 3,
   "metadata": {},
   "outputs": [],
   "source": [
    "a = QApplication()\n",
    "w = Win(parent=None, uifile=\"w.ui\")\n",
    "w.show()\n",
    "a.exec()"
   ]
  },
  {
   "cell_type": "code",
   "execution_count": null,
   "metadata": {},
   "outputs": [],
   "source": []
  },
  {
   "cell_type": "code",
   "execution_count": null,
   "metadata": {},
   "outputs": [],
   "source": []
  },
  {
   "cell_type": "code",
   "execution_count": null,
   "metadata": {},
   "outputs": [],
   "source": []
  },
  {
   "cell_type": "code",
   "execution_count": null,
   "metadata": {},
   "outputs": [],
   "source": []
  }
 ],
 "metadata": {
  "interpreter": {
   "hash": "7547b18c2fe277021d69fbe06591f140162d57c265419983bb0ec6abbed39c57"
  },
  "kernelspec": {
   "display_name": "Python 3.10.4 64-bit (windows store)",
   "language": "python",
   "name": "python3"
  },
  "language_info": {
   "codemirror_mode": {
    "name": "ipython",
    "version": 3
   },
   "file_extension": ".py",
   "mimetype": "text/x-python",
   "name": "python",
   "nbconvert_exporter": "python",
   "pygments_lexer": "ipython3",
   "version": "3.10.4"
  },
  "orig_nbformat": 4
 },
 "nbformat": 4,
 "nbformat_minor": 2
}
