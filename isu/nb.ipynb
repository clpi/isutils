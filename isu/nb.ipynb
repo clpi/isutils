{
 "cells": [
  {
   "cell_type": "code",
   "execution_count": 3,
   "metadata": {},
   "outputs": [],
   "source": [
    "import av, cv2, ffmpeg, os, io\n",
    "from PIL import Image, ImageQt, ImageSequence, ImageFile\n"
   ]
  },
  {
   "cell_type": "code",
   "execution_count": 2,
   "metadata": {},
   "outputs": [],
   "source": [
    "import tkinter as tk\n",
    "import tkinter.ttk as ttk\n",
    "\n",
    "t = tk.Tk()\n",
    "# m = tk.ttk.Menubutton(t, text=\"Te\")\n",
    "cb = ttk.Button(t, text=\"FDF\")\n",
    "# m.pack()\n",
    "cb.pack()\n",
    "t.mainloop()"
   ]
  },
  {
   "cell_type": "code",
   "execution_count": null,
   "metadata": {},
   "outputs": [],
   "source": [
    "from PyQt6.QtWidgets import QWidget"
   ]
  },
  {
   "cell_type": "code",
   "execution_count": null,
   "metadata": {},
   "outputs": [],
   "source": [
    "import gizeh as gz\n",
    "import numpy as np\n",
    "from typing import Sequence, Tuple\n",
    "from pathlib import Path\n",
    "import moviepy.editor as mpy\n",
    "import cv2, av\n",
    "from math import pi\n",
    "\n",
    "BLUE=(59/255, 89/255,152/255)\n",
    "\n",
    "def text(t: str):\n",
    "    surf = gz.Surface(640, 60, bg_color=(1, 1, 1))\n",
    "    text = gz.text(t, \"Arial\", 30, fontweight=\"bold\", fill=BLUE, xy=(320, 40))\n",
    "    text.draw(surf)\n",
    "    return surf.get_npimage()\n",
    "\n",
    "def render(dir: Path, name: str, frames: Sequence[np.ndarray], format: str, fps: int = 24):\n",
    "    # w, h = frames[0].size\n",
    "    fcc = cv2.VideoWriter_fourcc('m', 'p', '4', 'v')\n",
    "    outp = os.path.join(dir, name + \".\" + format)\n",
    "    # out = cv2.VideoWriter(outp, fcc, fps, (w, h))\n",
    "\n",
    "    for f in frames:\n",
    "        # out.write())\n",
    "        pass\n",
    "\n"
   ]
  },
  {
   "cell_type": "code",
   "execution_count": null,
   "metadata": {},
   "outputs": [],
   "source": []
  },
  {
   "cell_type": "code",
   "execution_count": null,
   "metadata": {},
   "outputs": [],
   "source": []
  },
  {
   "cell_type": "code",
   "execution_count": null,
   "metadata": {},
   "outputs": [],
   "source": []
  },
  {
   "cell_type": "code",
   "execution_count": null,
   "metadata": {},
   "outputs": [],
   "source": []
  }
 ],
 "metadata": {
  "interpreter": {
   "hash": "7547b18c2fe277021d69fbe06591f140162d57c265419983bb0ec6abbed39c57"
  },
  "kernelspec": {
   "display_name": "Python 3.10.2 64-bit (windows store)",
   "language": "python",
   "name": "python3"
  },
  "language_info": {
   "codemirror_mode": {
    "name": "ipython",
    "version": 3
   },
   "file_extension": ".py",
   "mimetype": "text/x-python",
   "name": "python",
   "nbconvert_exporter": "python",
   "pygments_lexer": "ipython3",
   "version": "3.10.2"
  },
  "orig_nbformat": 4
 },
 "nbformat": 4,
 "nbformat_minor": 2
}
