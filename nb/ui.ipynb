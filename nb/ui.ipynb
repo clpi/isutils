{
 "cells": [
  {
   "cell_type": "code",
   "execution_count": null,
   "metadata": {},
   "outputs": [],
   "source": [
    "\n",
    "from PySide6.QtCore import *\n",
    "from typing import List, Type\n",
    "from PySide6.QtStateMachine import *\n",
    "from PySide6.QtWidgets import *\n",
    "from tkinter import Tk, ttk\n",
    "import cv2, ffmpeg, sys, os, numpy as np\n",
    "from PIL import Image, ImageQt, ImageSequence\n",
    "from isu.ui import MainApp, MainWindow\n",
    "import ffmpeg\n",
    "def app():\n",
    "def msg\n",
    "    @staticmethod\n",
    "\n",
    "@Slot(str, str, str, str)\n",
    "def msg(self, txt: str, inf: str, title: str, det: str = \"\") -> None:\n",
    "    msg = QMessageBox()\n",
    "    msg.setIcon(QMessageBox.Icon.Information)\n",
    "    msg.setWindowTitle(title)\n",
    "    msg.setText(txt)\n",
    "    msg.setInformativeText(inf)\n",
    "    if det != \"\":\n",
    "        msg.setDetailedText(det)\n",
    "    msg.setDefaultButton(QMessageBox.StandardButton.Ok)\n",
    "    msg.setStandardButtons(buttons=QMessageBox.StandardButtons())\n",
    "    msg.exec()\n",
    "\n",
    "    "
   ]
  }
 ],
 "metadata": {
  "language_info": {
   "name": "python"
  },
  "orig_nbformat": 4
 },
 "nbformat": 4,
 "nbformat_minor": 2
}
