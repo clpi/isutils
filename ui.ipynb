{
 "cells": [
  {
   "cell_type": "code",
   "execution_count": 2,
   "metadata": {},
   "outputs": [],
   "source": [
    "\n",
    "from PySide6.QtCore import *\n",
    "from typing import List, Type\n",
    "from isu.ui.load import UiLoad\n",
    "from PySide6.QtWidgets import *\n",
    "from tkinter import Tk, ttk\n",
    "from PySide6.QtUiTools import QUiLoader\n",
    "import cv2, ffmpeg, sys, os, numpy as np\n",
    "from PIL import Image, ImageQt, ImageSequence\n",
    "import ffmpeg, av"
   ]
  },
  {
   "cell_type": "code",
   "execution_count": 3,
   "metadata": {},
   "outputs": [],
   "source": [
    "\n",
    "class Isu:\n",
    "    app: QCoreApplication\n",
    "    def __init__(self) -> None:\n",
    "        match QApplication.instance():\n",
    "            case None: self.app = QApplication(sys.argv)\n",
    "            case inst: self.app = inst\n",
    "\n",
    "    def show(self, mw: QMainWindow):\n",
    "        mw.show()\n",
    "        sys.exit(self.app.exec())\n",
    "\n",
    "class Win(QMainWindow):\n",
    "    def __init__(self):\n",
    "        super().__init__()\n",
    "        self.ldr = QUiLoader()\n",
    "        self.ui = self.ldr.load(r\"./isu/ui/wind.ui\", self)\n",
    "        self.stepTabs: QTabWidget = self.ui.findChild(QTabWidget, \"stepTabs\") #type: ignore\n",
    "        self.op = self.ldr.load(r\"./isu/ui/ops/tab.ui\", self.stepTabs) # type: ignore\n",
    "        # self.stepTabs.addTab(OpTab(parent=self.stepTabs), \"Step 1\")\n",
    "        # self.stepTable: QTableView = self.findChild(QTableView, \"stepTable\")\n",
    "\n",
    "    def set_title(self, t: str):\n",
    "        self.ui.setWindowTitle(\"Impresys Utilities: \" + t)\n",
    "\n",
    "# class OpTab(QWidget):\n",
    "#     def __init__(self, parent=None):\n",
    "#         super().__init__()\n",
    "#         uic.load_ui.loadUi(r\"isu/ui/ops/tab.ui\", self)\n",
    "\n"
   ]
  },
  {
   "cell_type": "code",
   "execution_count": 4,
   "metadata": {},
   "outputs": [],
   "source": [
    "\n",
    "app = Isu()\n",
    "win = Win()\n",
    "win.ui.show()\n",
    "sys.exit(app.app.exec())"
   ]
  },
  {
   "cell_type": "code",
   "execution_count": null,
   "metadata": {},
   "outputs": [],
   "source": []
  },
  {
   "cell_type": "code",
   "execution_count": null,
   "metadata": {},
   "outputs": [],
   "source": []
  }
 ],
 "metadata": {
  "interpreter": {
   "hash": "7547b18c2fe277021d69fbe06591f140162d57c265419983bb0ec6abbed39c57"
  },
  "kernelspec": {
   "display_name": "Python 3.10.4 64-bit (windows store)",
   "language": "python",
   "name": "python3"
  },
  "language_info": {
   "codemirror_mode": {
    "name": "ipython",
    "version": 3
   },
   "file_extension": ".py",
   "mimetype": "text/x-python",
   "name": "python",
   "nbconvert_exporter": "python",
   "pygments_lexer": "ipython3",
   "version": "3.10.4"
  },
  "orig_nbformat": 4
 },
 "nbformat": 4,
 "nbformat_minor": 2
}
