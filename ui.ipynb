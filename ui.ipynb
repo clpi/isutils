{
 "cells": [
  {
   "cell_type": "code",
   "execution_count": 2,
   "metadata": {},
   "outputs": [],
   "source": [
    "\n",
    "from PySide6.QtCore import *\n",
    "from typing import List, Type\n",
    "from isu.ui.load import UiLoad\n",
    "from PySide6.QtWidgets import *\n",
    "from tkinter import Tk, ttk\n",
    "from PySide6.QtUiTools import QUiLoader\n",
    "import cv2, ffmpeg, sys, os, numpy as np\n",
    "from PIL import Image, ImageQt, ImageSequence\n",
    "import ffmpeg, av"
   ]
  },
  {
   "cell_type": "code",
   "execution_count": 3,
   "metadata": {},
   "outputs": [],
   "source": [
    "# from PyQt6 import uic\n",
    "# from PyQt6.QtCore import *\n",
    "# from PyQt6.QtWidgets import *"
   ]
  },
  {
   "cell_type": "code",
   "execution_count": 6,
   "metadata": {},
   "outputs": [],
   "source": [
    "\n",
    "class Isu:\n",
    "    app: QCoreApplication\n",
    "    def __init__(self) -> None:\n",
    "        match QApplication.instance():\n",
    "            case None: self.app = QApplication(sys.argv)\n",
    "            case inst: self.app = inst\n",
    "\n",
    "    def show(self, mw: QMainWindow):\n",
    "        mw.show()\n",
    "        sys.exit(self.app.exec())\n",
    "\n",
    "class Win(QMainWindow):\n",
    "    def __init__(self):\n",
    "        super().__init__()\n",
    "\n",
    "        # NOTE: PYQT6\n",
    "        # uic.load_ui.loadUi(\"isu/ui/wind.ui\", self)\n",
    "        # self.stepTabs: QTabWidget\n",
    "        # self.ops kkk= []\n",
    "        # uic.load_ui.loadUi(\"isu/ui/ops/tab.ui\", self.ops[0])\n",
    "\n",
    "\n",
    "\n",
    "        # # NOTE: PYSIDE6        \n",
    "        self.ldr = QUiLoader()\n",
    "        self.ui = self.ldr.load(r\"./isu/ui/wind.ui\", self)\n",
    "        self.stepTabs: QTabWidget = self.ui.findChild(QTabWidget, \"stepTabs\") #type: ignore\n",
    "        self.op= self.ldr.load(r\"./isu/ui/ops/tab.ui\", self.stepTabs) # type: ignore\n",
    "        self.stepTabs.addTab(OpTab(parent=self.op), \"Step 1\") # type: ignore\n",
    "        # self.stepTable: QTableView = self.findChild(QTableView, \"stepTable\")\n",
    "\n",
    "    def set_title(self, t: str):\n",
    "        self.ui.setWindowTitle(\"Impresys Utilities: \" + t)\n",
    "\n",
    "class OpTab(QWidget):\n",
    "\n",
    "    def __init__(self, parent=None):\n",
    "        super().__init__()\n",
    "        UiLoad().loadUi(r\"isu/ui/ops/tab.ui\", self)\n",
    "        self.taskCombo: QComboBox = self.findChild(QComboBox, \"taskCombo\") # type: ignore\n",
    "        self.demoCombo: QComboBox = self.findChild(QComboBox, \"demoCombo\") # type: ignore\n",
    "        self.stepParams: QStackedWidget = self.findChild(QStackedWidget, \"stepParamsStack\") # type: ignore\n",
    "        self.stepParamsVl: QWidget = self.findChild(QWidget, \"stepParamsVl\") # type: ignore\n",
    "\n"
   ]
  },
  {
   "cell_type": "code",
   "execution_count": 7,
   "metadata": {},
   "outputs": [
    {
     "ename": "SystemExit",
     "evalue": "0",
     "output_type": "error",
     "traceback": [
      "An exception has occurred, use %tb to see the full traceback.\n",
      "\u001b[1;31mSystemExit\u001b[0m\u001b[1;31m:\u001b[0m 0\n"
     ]
    },
    {
     "name": "stderr",
     "output_type": "stream",
     "text": [
      "C:\\Users\\chris\\AppData\\Local\\Packages\\PythonSoftwareFoundation.Python.3.10_qbz5n2kfra8p0\\LocalCache\\local-packages\\Python310\\site-packages\\IPython\\core\\interactiveshell.py:3259: UserWarning: To exit: use 'exit', 'quit', or Ctrl-D.\n",
      "  warn(\"To exit: use 'exit', 'quit', or Ctrl-D.\", stacklevel=1)\n"
     ]
    }
   ],
   "source": [
    "\n",
    "app = Isu()\n",
    "win = Win()\n",
    "win.ui.show()\n",
    "sys.exit(app.app.exec())"
   ]
  },
  {
   "cell_type": "code",
   "execution_count": null,
   "metadata": {},
   "outputs": [],
   "source": []
  },
  {
   "cell_type": "code",
   "execution_count": null,
   "metadata": {},
   "outputs": [],
   "source": []
  },
  {
   "cell_type": "code",
   "execution_count": null,
   "metadata": {},
   "outputs": [],
   "source": []
  },
  {
   "cell_type": "code",
   "execution_count": null,
   "metadata": {},
   "outputs": [],
   "source": []
  }
 ],
 "metadata": {
  "interpreter": {
   "hash": "7547b18c2fe277021d69fbe06591f140162d57c265419983bb0ec6abbed39c57"
  },
  "kernelspec": {
   "display_name": "Python 3.10.4 64-bit (windows store)",
   "language": "python",
   "name": "python3"
  },
  "language_info": {
   "codemirror_mode": {
    "name": "ipython",
    "version": 3
   },
   "file_extension": ".py",
   "mimetype": "text/x-python",
   "name": "python",
   "nbconvert_exporter": "python",
   "pygments_lexer": "ipython3",
   "version": "3.10.4"
  },
  "orig_nbformat": 4
 },
 "nbformat": 4,
 "nbformat_minor": 2
}
