{
 "cells": [
  {
   "cell_type": "code",
   "execution_count": 3,
   "metadata": {},
   "outputs": [],
   "source": [
    "\n",
    "from PySide6.QtCore import *\n",
    "from typing import List, Type\n",
    "from PySide6.QtStateMachine import *\n",
    "from PySide6.QtWidgets import *\n",
    "from tkinter import Tk, ttk\n",
    "import cv2, ffmpeg, sys, os, numpy as np\n",
    "from PIL import Image, ImageQt, ImageSequence\n",
    "import ffmpeg"
   ]
  },
  {
   "cell_type": "code",
   "execution_count": 4,
   "metadata": {},
   "outputs": [],
   "source": [
    "from isu.ui.data.ui_steps import StepsDataUi\n",
    "\n",
    "class Win(QMainWindow):\n",
    "    def __init__(self):\n",
    "        QMainWindow.__init__(self)\n",
    "\n",
    "app = QApplication(sys.argv)\n",
    "win = Win().show()\n",
    "sys.exit(app.exec())"
   ]
  },
  {
   "cell_type": "code",
   "execution_count": null,
   "metadata": {},
   "outputs": [],
   "source": []
  }
 ],
 "metadata": {
  "interpreter": {
   "hash": "7547b18c2fe277021d69fbe06591f140162d57c265419983bb0ec6abbed39c57"
  },
  "kernelspec": {
   "display_name": "Python 3.10.4 64-bit (windows store)",
   "language": "python",
   "name": "python3"
  },
  "language_info": {
   "codemirror_mode": {
    "name": "ipython",
    "version": 3
   },
   "file_extension": ".py",
   "mimetype": "text/x-python",
   "name": "python",
   "nbconvert_exporter": "python",
   "pygments_lexer": "ipython3",
   "version": "3.10.4"
  },
  "orig_nbformat": 4
 },
 "nbformat": 4,
 "nbformat_minor": 2
}
